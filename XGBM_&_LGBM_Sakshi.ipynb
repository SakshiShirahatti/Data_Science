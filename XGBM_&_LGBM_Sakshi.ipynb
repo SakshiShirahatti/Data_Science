{
  "nbformat": 4,
  "nbformat_minor": 0,
  "metadata": {
    "colab": {
      "provenance": []
    },
    "kernelspec": {
      "name": "python3",
      "display_name": "Python 3"
    },
    "language_info": {
      "name": "python"
    }
  },
  "cells": [
    {
      "cell_type": "markdown",
      "source": [
        "# Install XGBM"
      ],
      "metadata": {
        "id": "1OGu-fJ_ES_3"
      }
    },
    {
      "cell_type": "code",
      "execution_count": 1,
      "metadata": {
        "colab": {
          "base_uri": "https://localhost:8080/"
        },
        "id": "GkCm7lEeC0hb",
        "outputId": "0d790abd-a922-4f08-f643-d91dca14d6ae"
      },
      "outputs": [
        {
          "output_type": "stream",
          "name": "stdout",
          "text": [
            "Looking in indexes: https://pypi.org/simple, https://us-python.pkg.dev/colab-wheels/public/simple/\n",
            "Requirement already satisfied: xgboost in /usr/local/lib/python3.8/dist-packages (0.90)\n",
            "Requirement already satisfied: scipy in /usr/local/lib/python3.8/dist-packages (from xgboost) (1.7.3)\n",
            "Requirement already satisfied: numpy in /usr/local/lib/python3.8/dist-packages (from xgboost) (1.21.6)\n"
          ]
        }
      ],
      "source": [
        "! pip install xgboost"
      ]
    },
    {
      "cell_type": "markdown",
      "source": [
        "#### First XGBoost model for Pima Indians Dataset"
      ],
      "metadata": {
        "id": "f0mWfjL8Eu2J"
      }
    },
    {
      "cell_type": "code",
      "source": [
        "from numpy import loadtxt\n",
        "from xgboost import XGBClassifier\n",
        "from sklearn.model_selection import train_test_split\n",
        "from sklearn.metrics import accuracy_score"
      ],
      "metadata": {
        "id": "wrAFC43vEuZW"
      },
      "execution_count": 2,
      "outputs": []
    },
    {
      "cell_type": "code",
      "source": [
        "# load data\n",
        "dataset=loadtxt(\"/content/pima-indians-diabetes.data.csv\", delimiter=\",\")\n",
        "\n",
        "#split data into X & Y\n",
        "X=dataset[:,0:8]\n",
        "Y=dataset[:,8]"
      ],
      "metadata": {
        "id": "s3C5u-2SEJCl"
      },
      "execution_count": 3,
      "outputs": []
    },
    {
      "cell_type": "code",
      "source": [
        "dataset.shape"
      ],
      "metadata": {
        "colab": {
          "base_uri": "https://localhost:8080/"
        },
        "id": "W-cywLA-HU_n",
        "outputId": "4e4f84bb-646f-42b0-e98d-06e753ad05fe"
      },
      "execution_count": 4,
      "outputs": [
        {
          "output_type": "execute_result",
          "data": {
            "text/plain": [
              "(768, 9)"
            ]
          },
          "metadata": {},
          "execution_count": 4
        }
      ]
    },
    {
      "cell_type": "code",
      "source": [
        "# split data into train and test sets\n",
        "seed=7\n",
        "test_size=0.33\n",
        "X_train,X_test,Y_train,Y_test=train_test_split(X,Y,test_size=test_size,random_state=seed)"
      ],
      "metadata": {
        "id": "ib6ThtcnHZM-"
      },
      "execution_count": 5,
      "outputs": []
    },
    {
      "cell_type": "code",
      "source": [
        "# fit model on training data\n",
        "model=XGBClassifier(n_estimators=90,max_depth=3)\n",
        "model.fit(X_train,Y_train)"
      ],
      "metadata": {
        "colab": {
          "base_uri": "https://localhost:8080/"
        },
        "id": "HHHO8OwPL-aV",
        "outputId": "fba9f3ae-8fdb-4113-b92b-f0682530aa81"
      },
      "execution_count": 6,
      "outputs": [
        {
          "output_type": "execute_result",
          "data": {
            "text/plain": [
              "XGBClassifier(n_estimators=90)"
            ]
          },
          "metadata": {},
          "execution_count": 6
        }
      ]
    },
    {
      "cell_type": "code",
      "source": [
        "# make prediction for test data\n",
        "y_pred=model.predict(X_test)\n",
        "predication=[round(value) for value in y_pred]"
      ],
      "metadata": {
        "id": "tkp7pUgSM2gQ"
      },
      "execution_count": 7,
      "outputs": []
    },
    {
      "cell_type": "code",
      "source": [
        "# Evalueate predictions\n",
        "accuracy=accuracy_score(Y_test,predication)\n",
        "print(\"Accuracy: %.2f%%\" % (accuracy * 100.0))"
      ],
      "metadata": {
        "colab": {
          "base_uri": "https://localhost:8080/"
        },
        "id": "QMjMgWoGNQgn",
        "outputId": "d3360b16-ebd0-48f0-adb1-78ee9a981bd3"
      },
      "execution_count": 8,
      "outputs": [
        {
          "output_type": "stream",
          "name": "stdout",
          "text": [
            "Accuracy: 79.53%\n"
          ]
        }
      ]
    },
    {
      "cell_type": "markdown",
      "source": [
        "# Install LGBM\n",
        "LIGHT XGB"
      ],
      "metadata": {
        "id": "WUWoPLgfOHiT"
      }
    },
    {
      "cell_type": "code",
      "source": [
        "import numpy as np\n",
        "import matplotlib.pyplot as plt\n",
        "import pandas as pd"
      ],
      "metadata": {
        "id": "qMNyGrs8NtNk"
      },
      "execution_count": 9,
      "outputs": []
    },
    {
      "cell_type": "code",
      "source": [
        "! pip install lightgbm"
      ],
      "metadata": {
        "colab": {
          "base_uri": "https://localhost:8080/"
        },
        "id": "5_88Rb0rO5Kv",
        "outputId": "6d228629-5ffc-463e-9d58-5e601745b850"
      },
      "execution_count": 10,
      "outputs": [
        {
          "output_type": "stream",
          "name": "stdout",
          "text": [
            "Looking in indexes: https://pypi.org/simple, https://us-python.pkg.dev/colab-wheels/public/simple/\n",
            "Requirement already satisfied: lightgbm in /usr/local/lib/python3.8/dist-packages (2.2.3)\n",
            "Requirement already satisfied: scikit-learn in /usr/local/lib/python3.8/dist-packages (from lightgbm) (1.0.2)\n",
            "Requirement already satisfied: numpy in /usr/local/lib/python3.8/dist-packages (from lightgbm) (1.21.6)\n",
            "Requirement already satisfied: scipy in /usr/local/lib/python3.8/dist-packages (from lightgbm) (1.7.3)\n",
            "Requirement already satisfied: joblib>=0.11 in /usr/local/lib/python3.8/dist-packages (from scikit-learn->lightgbm) (1.2.0)\n",
            "Requirement already satisfied: threadpoolctl>=2.0.0 in /usr/local/lib/python3.8/dist-packages (from scikit-learn->lightgbm) (3.1.0)\n"
          ]
        }
      ]
    },
    {
      "cell_type": "code",
      "source": [
        "# load data\n",
        "dataset=loadtxt(\"/content/pima-indians-diabetes.data.csv\", delimiter=\",\")\n",
        "\n",
        "#split data into X & Y\n",
        "X=dataset[:,0:8]\n",
        "Y=dataset[:,8]"
      ],
      "metadata": {
        "id": "oVe3rPm-O9IO"
      },
      "execution_count": 11,
      "outputs": []
    },
    {
      "cell_type": "code",
      "source": [
        "# Splitting the dataset into the Training set Test set\n",
        "from sklearn.model_selection import train_test_split\n",
        "x_train,x_test,y_train,y_test=train_test_split(X,Y,test_size=0.33,random_state=0)"
      ],
      "metadata": {
        "id": "Vawu2snuPFjA"
      },
      "execution_count": 12,
      "outputs": []
    },
    {
      "cell_type": "code",
      "source": [
        "import lightgbm as lgb\n",
        "d_train=lgb.Dataset(x_train,label=y_train)"
      ],
      "metadata": {
        "id": "htTCE7J4Piz3"
      },
      "execution_count": 13,
      "outputs": []
    },
    {
      "cell_type": "code",
      "source": [
        "d_train"
      ],
      "metadata": {
        "colab": {
          "base_uri": "https://localhost:8080/"
        },
        "id": "g2VMP2zsP1Zd",
        "outputId": "8ba5abeb-afa1-4f75-c6f7-d294ebddb661"
      },
      "execution_count": 14,
      "outputs": [
        {
          "output_type": "execute_result",
          "data": {
            "text/plain": [
              "<lightgbm.basic.Dataset at 0x7fb588903e50>"
            ]
          },
          "metadata": {},
          "execution_count": 14
        }
      ]
    },
    {
      "cell_type": "code",
      "source": [
        "params={}       # created a dictionary\n",
        "params['learning_rate'] = 0.002,     #for better accuracy we can change to  0.1,0.3\n",
        "params['boosting_type'] = 'gbdt' # dart\n",
        "params['objective'] = 'binary'\n",
        "params['metric'] = 'binary_logloss'\n",
        "params['sub_feature'] = 0.5        #for better accuracy we can change it\n",
        "params['num_leaves'] = 10          #for better accuracy we can change it\n",
        "params['min_data'] = 50            #for better accuracy we can change it\n",
        "params['max_depth'] = 10           #for better accuracy we can change it"
      ],
      "metadata": {
        "id": "kGXBMqkRP26U"
      },
      "execution_count": 15,
      "outputs": []
    },
    {
      "cell_type": "code",
      "source": [
        "params"
      ],
      "metadata": {
        "colab": {
          "base_uri": "https://localhost:8080/"
        },
        "id": "uR4V13sLQc4I",
        "outputId": "06b60284-5211-4f8e-96fc-2d5c9b83e14a"
      },
      "execution_count": 16,
      "outputs": [
        {
          "output_type": "execute_result",
          "data": {
            "text/plain": [
              "{'learning_rate': (0.002,),\n",
              " 'boosting_type': 'gbdt',\n",
              " 'objective': 'binary',\n",
              " 'metric': 'binary_logloss',\n",
              " 'sub_feature': 0.5,\n",
              " 'num_leaves': 10,\n",
              " 'min_data': 50,\n",
              " 'max_depth': 10}"
            ]
          },
          "metadata": {},
          "execution_count": 16
        }
      ]
    },
    {
      "cell_type": "code",
      "source": [
        "clf=lgb.train(params,d_train,1400)   # itreation=1400 (how many times we want model to perform)"
      ],
      "metadata": {
        "id": "N3bFDYIoQe5G"
      },
      "execution_count": 17,
      "outputs": []
    },
    {
      "cell_type": "code",
      "source": [
        "# prediction\n",
        "y_pred=clf.predict(x_test)"
      ],
      "metadata": {
        "id": "4pW3Nr6kQmT-"
      },
      "execution_count": 18,
      "outputs": []
    },
    {
      "cell_type": "code",
      "source": [
        "prediction=[round(value)for value in y_pred]"
      ],
      "metadata": {
        "id": "85eh9wbtRESm"
      },
      "execution_count": 19,
      "outputs": []
    },
    {
      "cell_type": "code",
      "source": [
        "from sklearn.metrics import accuracy_score"
      ],
      "metadata": {
        "id": "FL8dpm8MRK2b"
      },
      "execution_count": 20,
      "outputs": []
    },
    {
      "cell_type": "code",
      "source": [
        "accuracy=accuracy_score(y_test,prediction)\n",
        "print('Accuracy: %.2f%%' % (accuracy * 100.0))"
      ],
      "metadata": {
        "colab": {
          "base_uri": "https://localhost:8080/"
        },
        "id": "2GFyoPLzRWYp",
        "outputId": "c0b440aa-8785-4615-92ee-4aab175475b7"
      },
      "execution_count": 21,
      "outputs": [
        {
          "output_type": "stream",
          "name": "stdout",
          "text": [
            "Accuracy: 74.80%\n"
          ]
        }
      ]
    },
    {
      "cell_type": "markdown",
      "source": [
        "if we want accuracy better we will continuously change params"
      ],
      "metadata": {
        "id": "7LuvWRiNRxyk"
      }
    },
    {
      "cell_type": "code",
      "source": [],
      "metadata": {
        "id": "l4d2tz0tRmUS"
      },
      "execution_count": 21,
      "outputs": []
    }
  ]
}