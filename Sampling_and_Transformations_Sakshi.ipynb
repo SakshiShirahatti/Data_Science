{
  "nbformat": 4,
  "nbformat_minor": 0,
  "metadata": {
    "kernelspec": {
      "display_name": "Python 3",
      "language": "python",
      "name": "python3"
    },
    "language_info": {
      "codemirror_mode": {
        "name": "ipython",
        "version": 3
      },
      "file_extension": ".py",
      "mimetype": "text/x-python",
      "name": "python",
      "nbconvert_exporter": "python",
      "pygments_lexer": "ipython3",
      "version": "3.7.4"
    },
    "colab": {
      "provenance": []
    }
  },
  "cells": [
    {
      "cell_type": "markdown",
      "metadata": {
        "id": "GWXoCVxR1qIb"
      },
      "source": [
        "# Upsampling Data"
      ]
    },
    {
      "cell_type": "markdown",
      "source": [
        "## upsample to daily intervals"
      ],
      "metadata": {
        "id": "4UJ-4fpnvKWL"
      }
    },
    {
      "cell_type": "code",
      "metadata": {
        "id": "IhaHJJAk1qIe",
        "colab": {
          "base_uri": "https://localhost:8080/"
        },
        "outputId": "5772a76e-6c07-4570-9675-f0bd8a460eec"
      },
      "source": [
        "from pandas import read_csv\n",
        "from pandas import datetime\n",
        "from matplotlib import pyplot"
      ],
      "execution_count": 1,
      "outputs": [
        {
          "output_type": "stream",
          "name": "stderr",
          "text": [
            "<ipython-input-1-7ffc1f1d448d>:2: FutureWarning: The pandas.datetime class is deprecated and will be removed from pandas in a future version. Import from datetime module instead.\n",
            "  from pandas import datetime\n"
          ]
        }
      ]
    },
    {
      "cell_type": "code",
      "metadata": {
        "id": "nq0U8DWV1qIg"
      },
      "source": [
        "series = read_csv('sales.csv', header=0, index_col=0, parse_dates=True,squeeze=True)"
      ],
      "execution_count": 2,
      "outputs": []
    },
    {
      "cell_type": "code",
      "metadata": {
        "id": "a4GbZ5FC1qIg",
        "colab": {
          "base_uri": "https://localhost:8080/"
        },
        "outputId": "1a433f87-59e2-4329-d9e0-521d777187af"
      },
      "source": [
        "series"
      ],
      "execution_count": 3,
      "outputs": [
        {
          "output_type": "execute_result",
          "data": {
            "text/plain": [
              "Month\n",
              "1990-01-01    266.0\n",
              "1990-02-01    145.9\n",
              "1990-03-01    183.1\n",
              "1990-04-01    119.3\n",
              "1990-05-01    180.3\n",
              "1990-06-01    168.5\n",
              "1990-07-01    231.8\n",
              "1990-08-01    224.5\n",
              "1990-09-01    192.8\n",
              "1990-10-01    122.9\n",
              "1990-11-01    336.5\n",
              "1990-12-01    185.9\n",
              "1991-01-01    194.3\n",
              "1991-02-01    149.5\n",
              "1991-03-01    210.1\n",
              "1991-04-01    273.3\n",
              "1991-05-01    191.4\n",
              "1991-06-01    287.0\n",
              "1991-07-01    226.0\n",
              "1991-08-01    303.6\n",
              "1991-09-01    289.9\n",
              "1991-10-01    421.6\n",
              "1991-11-01    264.5\n",
              "1991-12-01    342.3\n",
              "1992-01-01    339.7\n",
              "1992-02-01    440.4\n",
              "1992-03-01    315.9\n",
              "1992-04-01    439.3\n",
              "1992-05-01    401.3\n",
              "1992-06-01    437.4\n",
              "1992-07-01    575.5\n",
              "1992-08-01    407.6\n",
              "1992-09-01    682.0\n",
              "1992-10-01    475.3\n",
              "1992-11-01    581.3\n",
              "1992-12-01    646.9\n",
              "Name: Sales, dtype: float64"
            ]
          },
          "metadata": {},
          "execution_count": 3
        }
      ]
    },
    {
      "cell_type": "code",
      "metadata": {
        "id": "tboyiIq11qIi",
        "colab": {
          "base_uri": "https://localhost:8080/"
        },
        "outputId": "e6c5196f-1544-4502-bcbc-fd08f9595095"
      },
      "source": [
        "upsampled = series.resample('D').mean()\n",
        "print(upsampled.head(32))"
      ],
      "execution_count": 4,
      "outputs": [
        {
          "output_type": "stream",
          "name": "stdout",
          "text": [
            "Month\n",
            "1990-01-01    266.0\n",
            "1990-01-02      NaN\n",
            "1990-01-03      NaN\n",
            "1990-01-04      NaN\n",
            "1990-01-05      NaN\n",
            "1990-01-06      NaN\n",
            "1990-01-07      NaN\n",
            "1990-01-08      NaN\n",
            "1990-01-09      NaN\n",
            "1990-01-10      NaN\n",
            "1990-01-11      NaN\n",
            "1990-01-12      NaN\n",
            "1990-01-13      NaN\n",
            "1990-01-14      NaN\n",
            "1990-01-15      NaN\n",
            "1990-01-16      NaN\n",
            "1990-01-17      NaN\n",
            "1990-01-18      NaN\n",
            "1990-01-19      NaN\n",
            "1990-01-20      NaN\n",
            "1990-01-21      NaN\n",
            "1990-01-22      NaN\n",
            "1990-01-23      NaN\n",
            "1990-01-24      NaN\n",
            "1990-01-25      NaN\n",
            "1990-01-26      NaN\n",
            "1990-01-27      NaN\n",
            "1990-01-28      NaN\n",
            "1990-01-29      NaN\n",
            "1990-01-30      NaN\n",
            "1990-01-31      NaN\n",
            "1990-02-01    145.9\n",
            "Freq: D, Name: Sales, dtype: float64\n"
          ]
        }
      ]
    },
    {
      "cell_type": "markdown",
      "metadata": {
        "id": "vEAHK8kq1qIj"
      },
      "source": [
        "#interpolate the missing value"
      ]
    },
    {
      "cell_type": "code",
      "metadata": {
        "id": "CgumZmKw1qIk",
        "colab": {
          "base_uri": "https://localhost:8080/",
          "height": 911
        },
        "outputId": "e8c95140-8171-45ee-e28e-3d8a3ce046db"
      },
      "source": [
        "interpolated = upsampled.interpolate(method='linear')\n",
        "print(interpolated.head(32))\n",
        "interpolated.plot()\n",
        "pyplot.show()"
      ],
      "execution_count": 5,
      "outputs": [
        {
          "output_type": "stream",
          "name": "stdout",
          "text": [
            "Month\n",
            "1990-01-01    266.000000\n",
            "1990-01-02    262.125806\n",
            "1990-01-03    258.251613\n",
            "1990-01-04    254.377419\n",
            "1990-01-05    250.503226\n",
            "1990-01-06    246.629032\n",
            "1990-01-07    242.754839\n",
            "1990-01-08    238.880645\n",
            "1990-01-09    235.006452\n",
            "1990-01-10    231.132258\n",
            "1990-01-11    227.258065\n",
            "1990-01-12    223.383871\n",
            "1990-01-13    219.509677\n",
            "1990-01-14    215.635484\n",
            "1990-01-15    211.761290\n",
            "1990-01-16    207.887097\n",
            "1990-01-17    204.012903\n",
            "1990-01-18    200.138710\n",
            "1990-01-19    196.264516\n",
            "1990-01-20    192.390323\n",
            "1990-01-21    188.516129\n",
            "1990-01-22    184.641935\n",
            "1990-01-23    180.767742\n",
            "1990-01-24    176.893548\n",
            "1990-01-25    173.019355\n",
            "1990-01-26    169.145161\n",
            "1990-01-27    165.270968\n",
            "1990-01-28    161.396774\n",
            "1990-01-29    157.522581\n",
            "1990-01-30    153.648387\n",
            "1990-01-31    149.774194\n",
            "1990-02-01    145.900000\n",
            "Freq: D, Name: Sales, dtype: float64\n"
          ]
        },
        {
          "output_type": "display_data",
          "data": {
            "text/plain": [
              "<Figure size 432x288 with 1 Axes>"
            ],
            "image/png": "[encoded data removed]"
          },
          "metadata": {
            "needs_background": "light"
          }
        }
      ]
    },
    {
      "cell_type": "code",
      "metadata": {
        "id": "RlW8FeIF3RfX",
        "colab": {
          "base_uri": "https://localhost:8080/",
          "height": 309
        },
        "outputId": "845b15d4-a8df-47a9-acb5-e53ca0d7ba3f"
      },
      "source": [
        "series.plot()"
      ],
      "execution_count": 6,
      "outputs": [
        {
          "output_type": "execute_result",
          "data": {
            "text/plain": [
              "<matplotlib.axes._subplots.AxesSubplot at 0x7efc0cab4b50>"
            ]
          },
          "metadata": {},
          "execution_count": 6
        },
        {
          "output_type": "display_data",
          "data": {
            "text/plain": [
              "<Figure size 432x288 with 1 Axes>"
            ],
            "image/png": "[encoded data removed]"
          },
          "metadata": {
            "needs_background": "light"
          }
        }
      ]
    },
    {
      "cell_type": "markdown",
      "metadata": {
        "id": "36LxlsOn1qIl"
      },
      "source": [
        "# Downsampling Data"
      ]
    },
    {
      "cell_type": "markdown",
      "source": [
        "## downsample to quarterly intervals"
      ],
      "metadata": {
        "id": "YOptaXO-vSus"
      }
    },
    {
      "cell_type": "code",
      "metadata": {
        "id": "k688igSF1qIm",
        "colab": {
          "base_uri": "https://localhost:8080/"
        },
        "outputId": "6fda1827-a1cc-4d85-a694-1d61fecba132"
      },
      "source": [
        "from pandas import read_csv\n",
        "from pandas import datetime\n",
        "from matplotlib import pyplot"
      ],
      "execution_count": 7,
      "outputs": [
        {
          "output_type": "stream",
          "name": "stderr",
          "text": [
            "<ipython-input-7-7ffc1f1d448d>:2: FutureWarning: The pandas.datetime class is deprecated and will be removed from pandas in a future version. Import from datetime module instead.\n",
            "  from pandas import datetime\n"
          ]
        }
      ]
    },
    {
      "cell_type": "code",
      "metadata": {
        "id": "09ItAGLy1qIn"
      },
      "source": [
        "resample = series.resample('Q')\n",
        "quarterly_mean_sales = resample.mean()"
      ],
      "execution_count": 8,
      "outputs": []
    },
    {
      "cell_type": "code",
      "metadata": {
        "id": "XqwQAbFP4B1l",
        "colab": {
          "base_uri": "https://localhost:8080/",
          "height": 309
        },
        "outputId": "39ad1bf7-428b-45c5-c990-705a84335dc7"
      },
      "source": [
        "quarterly_mean_sales.plot()"
      ],
      "execution_count": 9,
      "outputs": [
        {
          "output_type": "execute_result",
          "data": {
            "text/plain": [
              "<matplotlib.axes._subplots.AxesSubplot at 0x7efc0d0624f0>"
            ]
          },
          "metadata": {},
          "execution_count": 9
        },
        {
          "output_type": "display_data",
          "data": {
            "text/plain": [
              "<Figure size 432x288 with 1 Axes>"
            ],
            "image/png": "[encoded data removed]"
          },
          "metadata": {
            "needs_background": "light"
          }
        }
      ]
    },
    {
      "cell_type": "markdown",
      "metadata": {
        "id": "kbWY6bad1qIo"
      },
      "source": [
        "# Tranformations"
      ]
    },
    {
      "cell_type": "markdown",
      "source": [
        "## load and plot a time series"
      ],
      "metadata": {
        "id": "lXhAUbrevaQL"
      }
    },
    {
      "cell_type": "code",
      "metadata": {
        "id": "iJGAF7nj1qIo"
      },
      "source": [
        "from pandas import read_csv\n",
        "from matplotlib import pyplot"
      ],
      "execution_count": 10,
      "outputs": []
    },
    {
      "cell_type": "code",
      "metadata": {
        "id": "zB7zgkP31qIp"
      },
      "source": [
        "series = read_csv('/content/airline-passengers.csv', header=0, index_col=0, parse_dates=True)"
      ],
      "execution_count": 11,
      "outputs": []
    },
    {
      "cell_type": "code",
      "metadata": {
        "id": "X4V_Psrb1qIp",
        "colab": {
          "base_uri": "https://localhost:8080/",
          "height": 265
        },
        "outputId": "2ffd0006-8c75-4f93-9a04-8fcaf9e3d7fe"
      },
      "source": [
        "# line plot\n",
        "pyplot.subplot(211)\n",
        "pyplot.plot(series)\n",
        "# histogram\n",
        "pyplot.subplot(212)\n",
        "pyplot.hist(series)\n",
        "pyplot.show()"
      ],
      "execution_count": 12,
      "outputs": [
        {
          "output_type": "display_data",
          "data": {
            "text/plain": [
              "<Figure size 432x288 with 2 Axes>"
            ],
            "image/png": "[encoded data removed]"
          },
          "metadata": {
            "needs_background": "light"
          }
        }
      ]
    },
    {
      "cell_type": "markdown",
      "metadata": {
        "id": "WSc4aE-X1qIq"
      },
      "source": [
        "#### Square Root Transform"
      ]
    },
    {
      "cell_type": "code",
      "metadata": {
        "id": "EolUOVDo1qIq"
      },
      "source": [
        "from pandas import read_csv\n",
        "from pandas import DataFrame\n",
        "from numpy import sqrt\n",
        "from matplotlib import pyplot"
      ],
      "execution_count": 13,
      "outputs": []
    },
    {
      "cell_type": "code",
      "metadata": {
        "id": "zI-P7CNC1qIr"
      },
      "source": [
        "dataframe = DataFrame(series.values)\n",
        "dataframe.columns = ['passengers']\n",
        "dataframe['passengers'] = sqrt(dataframe['passengers'])"
      ],
      "execution_count": 14,
      "outputs": []
    },
    {
      "cell_type": "code",
      "source": [
        "dataframe.head()"
      ],
      "metadata": {
        "colab": {
          "base_uri": "https://localhost:8080/",
          "height": 206
        },
        "id": "AxIl6iucYX9G",
        "outputId": "51181ae6-fcf7-4a3b-f779-136dbd42153a"
      },
      "execution_count": 15,
      "outputs": [
        {
          "output_type": "execute_result",
          "data": {
            "text/plain": [
              "   passengers\n",
              "0   10.583005\n",
              "1   10.862780\n",
              "2   11.489125\n",
              "3   11.357817\n",
              "4   11.000000"
            ],
            "text/html": [
              "\n",
              "  <div id=\"df-0fe56b01-6720-406e-b2bc-ae651463b89c\">\n",
              "    <div class=\"colab-df-container\">\n",
              "      <div>\n",
              "<style scoped>\n",
              "    .dataframe tbody tr th:only-of-type {\n",
              "        vertical-align: middle;\n",
              "    }\n",
              "\n",
              "    .dataframe tbody tr th {\n",
              "        vertical-align: top;\n",
              "    }\n",
              "\n",
              "    .dataframe thead th {\n",
              "        text-align: right;\n",
              "    }\n",
              "</style>\n",
              "<table border=\"1\" class=\"dataframe\">\n",
              "  <thead>\n",
              "    <tr style=\"text-align: right;\">\n",
              "      <th></th>\n",
              "      <th>passengers</th>\n",
              "    </tr>\n",
              "  </thead>\n",
              "  <tbody>\n",
              "    <tr>\n",
              "      <th>0</th>\n",
              "      <td>10.583005</td>\n",
              "    </tr>\n",
              "    <tr>\n",
              "      <th>1</th>\n",
              "      <td>10.862780</td>\n",
              "    </tr>\n",
              "    <tr>\n",
              "      <th>2</th>\n",
              "      <td>11.489125</td>\n",
              "    </tr>\n",
              "    <tr>\n",
              "      <th>3</th>\n",
              "      <td>11.357817</td>\n",
              "    </tr>\n",
              "    <tr>\n",
              "      <th>4</th>\n",
              "      <td>11.000000</td>\n",
              "    </tr>\n",
              "  </tbody>\n",
              "</table>\n",
              "</div>\n",
              "      <button class=\"colab-df-convert\" onclick=\"convertToInteractive('df-0fe56b01-6720-406e-b2bc-ae651463b89c')\"\n",
              "              title=\"Convert this dataframe to an interactive table.\"\n",
              "              style=\"display:none;\">\n",
              "        \n",
              "  <svg xmlns=\"http://www.w3.org/2000/svg\" height=\"24px\"viewBox=\"0 0 24 24\"\n",
              "       width=\"24px\">\n",
              "    <path d=\"M0 0h24v24H0V0z\" fill=\"none\"/>\n",
              "    <path d=\"M18.56 5.44l.94 2.06.94-2.06 2.06-.94-2.06-.94-.94-2.06-.94 2.06-2.06.94zm-11 1L8.5 8.5l.94-2.06 2.06-.94-2.06-.94L8.5 2.5l-.94 2.06-2.06.94zm10 10l.94 2.06.94-2.06 2.06-.94-2.06-.94-.94-2.06-.94 2.06-2.06.94z\"/><path d=\"M17.41 7.96l-1.37-1.37c-.4-.4-.92-.59-1.43-.59-.52 0-1.04.2-1.43.59L10.3 9.45l-7.72 7.72c-.78.78-.78 2.05 0 2.83L4 21.41c.39.39.9.59 1.41.59.51 0 1.02-.2 1.41-.59l7.78-7.78 2.81-2.81c.8-.78.8-2.07 0-2.86zM5.41 20L4 18.59l7.72-7.72 1.47 1.35L5.41 20z\"/>\n",
              "  </svg>\n",
              "      </button>\n",
              "      \n",
              "  <style>\n",
              "    .colab-df-container {\n",
              "      display:flex;\n",
              "      flex-wrap:wrap;\n",
              "      gap: 12px;\n",
              "    }\n",
              "\n",
              "    .colab-df-convert {\n",
              "      background-color: #E8F0FE;\n",
              "      border: none;\n",
              "      border-radius: 50%;\n",
              "      cursor: pointer;\n",
              "      display: none;\n",
              "      fill: #1967D2;\n",
              "      height: 32px;\n",
              "      padding: 0 0 0 0;\n",
              "      width: 32px;\n",
              "    }\n",
              "\n",
              "    .colab-df-convert:hover {\n",
              "      background-color: #E2EBFA;\n",
              "      box-shadow: 0px 1px 2px rgba(60, 64, 67, 0.3), 0px 1px 3px 1px rgba(60, 64, 67, 0.15);\n",
              "      fill: #174EA6;\n",
              "    }\n",
              "\n",
              "    [theme=dark] .colab-df-convert {\n",
              "      background-color: #3B4455;\n",
              "      fill: #D2E3FC;\n",
              "    }\n",
              "\n",
              "    [theme=dark] .colab-df-convert:hover {\n",
              "      background-color: #434B5C;\n",
              "      box-shadow: 0px 1px 3px 1px rgba(0, 0, 0, 0.15);\n",
              "      filter: drop-shadow(0px 1px 2px rgba(0, 0, 0, 0.3));\n",
              "      fill: #FFFFFF;\n",
              "    }\n",
              "  </style>\n",
              "\n",
              "      <script>\n",
              "        const buttonEl =\n",
              "          document.querySelector('#df-0fe56b01-6720-406e-b2bc-ae651463b89c button.colab-df-convert');\n",
              "        buttonEl.style.display =\n",
              "          google.colab.kernel.accessAllowed ? 'block' : 'none';\n",
              "\n",
              "        async function convertToInteractive(key) {\n",
              "          const element = document.querySelector('#df-0fe56b01-6720-406e-b2bc-ae651463b89c');\n",
              "          const dataTable =\n",
              "            await google.colab.kernel.invokeFunction('convertToInteractive',\n",
              "                                                     [key], {});\n",
              "          if (!dataTable) return;\n",
              "\n",
              "          const docLinkHtml = 'Like what you see? Visit the ' +\n",
              "            '<a target=\"_blank\" href=https://colab.research.google.com/notebooks/data_table.ipynb>data table notebook</a>'\n",
              "            + ' to learn more about interactive tables.';\n",
              "          element.innerHTML = '';\n",
              "          dataTable['output_type'] = 'display_data';\n",
              "          await google.colab.output.renderOutput(dataTable, element);\n",
              "          const docLink = document.createElement('div');\n",
              "          docLink.innerHTML = docLinkHtml;\n",
              "          element.appendChild(docLink);\n",
              "        }\n",
              "      </script>\n",
              "    </div>\n",
              "  </div>\n",
              "  "
            ]
          },
          "metadata": {},
          "execution_count": 15
        }
      ]
    },
    {
      "cell_type": "markdown",
      "source": [
        "## line plot"
      ],
      "metadata": {
        "id": "Y0cMC5sGvd0-"
      }
    },
    {
      "cell_type": "code",
      "metadata": {
        "id": "qt0grB-b1qIr",
        "colab": {
          "base_uri": "https://localhost:8080/",
          "height": 165
        },
        "outputId": "63d146c1-2e72-4b70-8504-536b40264543"
      },
      "source": [
        "pyplot.subplot(211)\n",
        "pyplot.plot(dataframe['passengers'])\n"
      ],
      "execution_count": 16,
      "outputs": [
        {
          "output_type": "execute_result",
          "data": {
            "text/plain": [
              "[<matplotlib.lines.Line2D at 0x7efc0ba2d340>]"
            ]
          },
          "metadata": {},
          "execution_count": 16
        },
        {
          "output_type": "display_data",
          "data": {
            "text/plain": [
              "<Figure size 432x288 with 1 Axes>"
            ],
            "image/png": "[encoded data removed]"
          },
          "metadata": {
            "needs_background": "light"
          }
        }
      ]
    },
    {
      "cell_type": "markdown",
      "source": [
        "## histogram"
      ],
      "metadata": {
        "id": "DNC8QZ-tvqcU"
      }
    },
    {
      "cell_type": "code",
      "source": [
        "pyplot.subplot(212)\n",
        "pyplot.hist(dataframe['passengers'])\n",
        "pyplot.show()"
      ],
      "metadata": {
        "colab": {
          "base_uri": "https://localhost:8080/",
          "height": 147
        },
        "id": "Eal0NpKdvhoL",
        "outputId": "772d7f6f-3294-4664-f7c2-329378c8b124"
      },
      "execution_count": 17,
      "outputs": [
        {
          "output_type": "display_data",
          "data": {
            "text/plain": [
              "<Figure size 432x288 with 1 Axes>"
            ],
            "image/png": "[encoded data removed]"
          },
          "metadata": {
            "needs_background": "light"
          }
        }
      ]
    },
    {
      "cell_type": "markdown",
      "metadata": {
        "id": "P2EHTyUt1qIs"
      },
      "source": [
        "# Log Transform"
      ]
    },
    {
      "cell_type": "code",
      "metadata": {
        "id": "kC7d90A51qIs"
      },
      "source": [
        "from numpy import log\n",
        "dataframe = DataFrame(series.values)\n",
        "dataframe.columns = ['passengers']\n",
        "dataframe['passengers'] = log(dataframe['passengers'])\n"
      ],
      "execution_count": 18,
      "outputs": []
    },
    {
      "cell_type": "markdown",
      "source": [
        "## line plot"
      ],
      "metadata": {
        "id": "WV0kKKppv6AF"
      }
    },
    {
      "cell_type": "code",
      "source": [
        "pyplot.subplot(211)\n",
        "pyplot.plot(dataframe['passengers'])"
      ],
      "metadata": {
        "colab": {
          "base_uri": "https://localhost:8080/",
          "height": 168
        },
        "id": "3HGX6W3Nvydp",
        "outputId": "6ce60a50-c1c2-4084-bcde-1d0c47babb9b"
      },
      "execution_count": 19,
      "outputs": [
        {
          "output_type": "execute_result",
          "data": {
            "text/plain": [
              "[<matplotlib.lines.Line2D at 0x7efc0b94eb50>]"
            ]
          },
          "metadata": {},
          "execution_count": 19
        },
        {
          "output_type": "display_data",
          "data": {
            "text/plain": [
              "<Figure size 432x288 with 1 Axes>"
            ],
            "image/png": "[encoded data removed]"
          },
          "metadata": {
            "needs_background": "light"
          }
        }
      ]
    },
    {
      "cell_type": "markdown",
      "source": [
        "## histogram"
      ],
      "metadata": {
        "id": "EE28OOuwv0i8"
      }
    },
    {
      "cell_type": "code",
      "source": [
        "pyplot.subplot(212)\n",
        "pyplot.hist(dataframe['passengers'])\n",
        "pyplot.show()"
      ],
      "metadata": {
        "colab": {
          "base_uri": "https://localhost:8080/",
          "height": 147
        },
        "id": "JdEiLahvvyZJ",
        "outputId": "27a4185f-6704-4235-8f1e-c5bb155394c5"
      },
      "execution_count": 20,
      "outputs": [
        {
          "output_type": "display_data",
          "data": {
            "text/plain": [
              "<Figure size 432x288 with 1 Axes>"
            ],
            "image/png": "[encoded data removed]"
          },
          "metadata": {
            "needs_background": "light"
          }
        }
      ]
    },
    {
      "cell_type": "code",
      "metadata": {
        "id": "ikHnri1p1qIt",
        "colab": {
          "base_uri": "https://localhost:8080/",
          "height": 419
        },
        "outputId": "56348730-032d-476c-8af5-4ba1cc155055"
      },
      "source": [
        "print(quarterly_mean_sales.head())\n",
        "quarterly_mean_sales.plot()\n",
        "pyplot.show()"
      ],
      "execution_count": 21,
      "outputs": [
        {
          "output_type": "stream",
          "name": "stdout",
          "text": [
            "Month\n",
            "1990-03-31    198.333333\n",
            "1990-06-30    156.033333\n",
            "1990-09-30    216.366667\n",
            "1990-12-31    215.100000\n",
            "1991-03-31    184.633333\n",
            "Freq: Q-DEC, Name: Sales, dtype: float64\n"
          ]
        },
        {
          "output_type": "display_data",
          "data": {
            "text/plain": [
              "<Figure size 432x288 with 1 Axes>"
            ],
            "image/png": "[encoded data removed]"
          },
          "metadata": {
            "needs_background": "light"
          }
        }
      ]
    }
  ]
}